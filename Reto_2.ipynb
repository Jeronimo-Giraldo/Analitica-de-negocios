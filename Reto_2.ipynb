{
  "nbformat": 4,
  "nbformat_minor": 0,
  "metadata": {
    "colab": {
      "provenance": [],
      "authorship_tag": "ABX9TyMo48Avx7Wrn7HDdK1MrU+X",
      "include_colab_link": true
    },
    "kernelspec": {
      "name": "python3",
      "display_name": "Python 3"
    },
    "language_info": {
      "name": "python"
    }
  },
  "cells": [
    {
      "cell_type": "markdown",
      "metadata": {
        "id": "view-in-github",
        "colab_type": "text"
      },
      "source": [
        "<a href=\"https://colab.research.google.com/github/Jeronimo-Giraldo/Analitica-de-negocios/blob/main/Reto_2.ipynb\" target=\"_parent\"><img src=\"https://colab.research.google.com/assets/colab-badge.svg\" alt=\"Open In Colab\"/></a>"
      ]
    },
    {
      "cell_type": "markdown",
      "source": [
        "0.Se procede con la carga de las librerias de trabajo"
      ],
      "metadata": {
        "id": "3BN-yUGMHSbZ"
      }
    },
    {
      "cell_type": "code",
      "source": [
        "import numpy as np\n",
        "import pandas as pd\n",
        "\n",
        "#Establecimento y evalución del modelo\n",
        "from sklearn.tree import DecisionTreeClassifier\n",
        "from sklearn.metrics import confusion_matrix\n",
        "\n",
        "#Carga de los archivos desde el drive\n",
        "from google.colab import drive\n",
        "drive.mount('/content/drive')"
      ],
      "metadata": {
        "colab": {
          "base_uri": "https://localhost:8080/"
        },
        "id": "iAEsWj_VHh1J",
        "outputId": "4aefd3a6-7dfb-4880-d45b-0cb94fd515ec"
      },
      "execution_count": null,
      "outputs": [
        {
          "output_type": "stream",
          "name": "stdout",
          "text": [
            "Drive already mounted at /content/drive; to attempt to forcibly remount, call drive.mount(\"/content/drive\", force_remount=True).\n"
          ]
        }
      ]
    },
    {
      "cell_type": "markdown",
      "source": [
        "1.Se procede con la carga de datos"
      ],
      "metadata": {
        "id": "rzBDsnMIH146"
      }
    },
    {
      "cell_type": "code",
      "source": [
        "nxl=\"/content/2. TechSalesReport_Int_L.xlsx\"\n",
        "XDB=pd.read_excel(nxl,sheet_name=0)\n",
        "XDB['Business'] = XDB['Business'].replace({'Hardware': 0, 'Software': 1})\n",
        "XDB['College'] = XDB['College'].replace({'Yes': 1, 'No': 0})\n",
        "XDB = XDB.drop(['Sales_Rep', 'Personality'], axis=1)\n",
        "print(XDB)"
      ],
      "metadata": {
        "colab": {
          "base_uri": "https://localhost:8080/"
        },
        "id": "BNMkoX8TH7Hw",
        "outputId": "fc53755c-149c-4d1b-f663-e706240324a4"
      },
      "execution_count": null,
      "outputs": [
        {
          "output_type": "stream",
          "name": "stdout",
          "text": [
            "       Business  Age  Female  Years  College  Certificates  Feedback  Salary  \\\n",
            "0             0   59       1      2        1             1      2.01   70200   \n",
            "1             0   52       0     10        1             4      3.64  133000   \n",
            "2             1   47       1      1        1             1      3.88   52600   \n",
            "3             0   61       0      2        1             3      2.70   96000   \n",
            "4             1   39       0      1        0             5      3.44  122000   \n",
            "...         ...  ...     ...    ...      ...           ...       ...     ...   \n",
            "21985         1   44       0      1        1             4      1.80  128000   \n",
            "21986         1   23       1      6        1             6      1.77   53400   \n",
            "21987         0   48       1      4        1             0      2.46   50400   \n",
            "21988         1   29       0      4        1             2      3.68   70000   \n",
            "21989         1   23       1      2        1             1      2.13   47400   \n",
            "\n",
            "       NPS  \n",
            "0        5  \n",
            "1       10  \n",
            "2        8  \n",
            "3        6  \n",
            "4        7  \n",
            "...    ...  \n",
            "21985    7  \n",
            "21986    8  \n",
            "21987    4  \n",
            "21988   10  \n",
            "21989    5  \n",
            "\n",
            "[21990 rows x 9 columns]\n"
          ]
        },
        {
          "output_type": "stream",
          "name": "stderr",
          "text": [
            "<ipython-input-4-e4595f05cf84>:3: FutureWarning: Downcasting behavior in `replace` is deprecated and will be removed in a future version. To retain the old behavior, explicitly call `result.infer_objects(copy=False)`. To opt-in to the future behavior, set `pd.set_option('future.no_silent_downcasting', True)`\n",
            "  XDB['Business'] = XDB['Business'].replace({'Hardware': 0, 'Software': 1})\n",
            "<ipython-input-4-e4595f05cf84>:4: FutureWarning: Downcasting behavior in `replace` is deprecated and will be removed in a future version. To retain the old behavior, explicitly call `result.infer_objects(copy=False)`. To opt-in to the future behavior, set `pd.set_option('future.no_silent_downcasting', True)`\n",
            "  XDB['College'] = XDB['College'].replace({'Yes': 1, 'No': 0})\n"
          ]
        }
      ]
    },
    {
      "cell_type": "markdown",
      "source": [
        "2.Seleccionamos las variables"
      ],
      "metadata": {
        "id": "b4kaZCGmICZA"
      }
    },
    {
      "cell_type": "code",
      "source": [
        "# Definir XD e yd\n",
        "XD=XDB[['Business', 'Age', 'Years', 'Female', 'Feedback', 'Salary', 'Certificates','NPS']]\n",
        "yd=XDB['College']\n",
        "print(XD)\n",
        "print(yd)"
      ],
      "metadata": {
        "colab": {
          "base_uri": "https://localhost:8080/"
        },
        "id": "B2rxvWc-IE4g",
        "outputId": "5b25bb4c-8fd2-4765-e135-d28c95da0537"
      },
      "execution_count": null,
      "outputs": [
        {
          "output_type": "stream",
          "name": "stdout",
          "text": [
            "       Business  Age  Years  Female  Feedback  Salary  Certificates  NPS\n",
            "0             0   59      2       1      2.01   70200             1    5\n",
            "1             0   52     10       0      3.64  133000             4   10\n",
            "2             1   47      1       1      3.88   52600             1    8\n",
            "3             0   61      2       0      2.70   96000             3    6\n",
            "4             1   39      1       0      3.44  122000             5    7\n",
            "...         ...  ...    ...     ...       ...     ...           ...  ...\n",
            "21985         1   44      1       0      1.80  128000             4    7\n",
            "21986         1   23      6       1      1.77   53400             6    8\n",
            "21987         0   48      4       1      2.46   50400             0    4\n",
            "21988         1   29      4       0      3.68   70000             2   10\n",
            "21989         1   23      2       1      2.13   47400             1    5\n",
            "\n",
            "[21990 rows x 8 columns]\n",
            "0        1\n",
            "1        1\n",
            "2        1\n",
            "3        1\n",
            "4        0\n",
            "        ..\n",
            "21985    1\n",
            "21986    1\n",
            "21987    1\n",
            "21988    1\n",
            "21989    1\n",
            "Name: College, Length: 21990, dtype: int64\n"
          ]
        }
      ]
    },
    {
      "cell_type": "markdown",
      "source": [
        "3.Se procede con la implementacion del modelo"
      ],
      "metadata": {
        "id": "m41ZTBp0JG-d"
      }
    },
    {
      "cell_type": "code",
      "source": [
        "mar=DecisionTreeClassifier(criterion='gini',max_depth=4)\n",
        "mar.fit(XD,yd)\n",
        "\n",
        "#Despliegue del arbol\n",
        "from sklearn.tree import export_graphviz #Exportar\n",
        "from pydotplus import graph_from_dot_data #Crear grafico\n",
        "\n",
        "vs=['Business', 'Age', 'Years', 'Female', 'Feedback', 'Salary', 'Certificates','NPS']\n",
        "\n",
        "dot_data=export_graphviz(mar,feature_names=vs)\n",
        "graph=graph_from_dot_data(dot_data)\n",
        "graph.write_png('1. ArbolPreApr.png')"
      ],
      "metadata": {
        "colab": {
          "base_uri": "https://localhost:8080/"
        },
        "id": "2YzcpIjRJR-S",
        "outputId": "a71ad2fe-edb0-44f3-8f26-46bcb595142e"
      },
      "execution_count": null,
      "outputs": [
        {
          "output_type": "execute_result",
          "data": {
            "text/plain": [
              "True"
            ]
          },
          "metadata": {},
          "execution_count": 6
        }
      ]
    },
    {
      "cell_type": "markdown",
      "source": [
        "4.Desempeño del modelo"
      ],
      "metadata": {
        "id": "xY5wqt1OJU9-"
      }
    },
    {
      "cell_type": "code",
      "source": [
        "ydp=mar.predict(XD)\n",
        "cm=confusion_matrix(yd,ydp)\n",
        "print(cm)\n",
        "\n",
        "\n",
        "VN=cm[0,0]; FP=cm[0,1]; FN=cm[1,0]; VP=cm[1,1]\n",
        "\n",
        "Exactitud=(VP+VN)/(VP+VN+FP+FN) #Funcionamiento general\n",
        "print('Exactitud',Exactitud)\n",
        "Sensibilidad=VP/(VP+FN) #Como se comporto el modelo con los aprobados\n",
        "print('Sensibilidad',Sensibilidad)\n",
        "Especificidad=VN/(VN+FP) #Como se comporto el modelo con los negados\n",
        "print('Especificidad',Especificidad)\n",
        "Precision=VP/(VP+FP) #acierto clasificando los positivos\n",
        "print('Precision',Precision)\n",
        "TasaError=(FP+FN)/(VP+VN+FP+FN) #Equivocación general\n",
        "print('TasaError',TasaError)\n",
        "PredNeg=VN/(VN+FN) #Como funciona el modelo negando creditos\n",
        "print('PredNeg',PredNeg)"
      ],
      "metadata": {
        "colab": {
          "base_uri": "https://localhost:8080/"
        },
        "id": "fBt55nxMJaOx",
        "outputId": "7ac2f64b-a2b2-481c-e0da-3b52bdb9a944"
      },
      "execution_count": null,
      "outputs": [
        {
          "output_type": "stream",
          "name": "stdout",
          "text": [
            "[[  114  4356]\n",
            " [   69 17451]]\n",
            "Exactitud 0.7987721691678036\n",
            "Sensibilidad 0.9960616438356165\n",
            "Especificidad 0.025503355704697986\n",
            "Precision 0.8002476269087908\n",
            "TasaError 0.20122783083219645\n",
            "PredNeg 0.6229508196721312\n"
          ]
        }
      ]
    },
    {
      "cell_type": "markdown",
      "source": [
        "5.Número de personas y de nodos puros para el arbol"
      ],
      "metadata": {
        "id": "q_txSj7PJhYZ"
      }
    },
    {
      "cell_type": "code",
      "source": [
        "# Total de personas\n",
        "total_personas = len(XDB)\n",
        "\n",
        "# Número de personas con título universitario (inscritas)\n",
        "num_inscritas = XDB['College'].sum()\n",
        "\n",
        "# Número de personas sin título universitario (no inscritas)\n",
        "num_no_inscritas = total_personas - num_inscritas\n",
        "\n",
        "# Imprimir los resultados\n",
        "print(f\"Total de personas en la base de datos: {total_personas}\")\n",
        "print(f\"Número de personas con título universitario (inscritas): {num_inscritas}\")\n",
        "print(f\"Número de personas sin título universitario (no inscritas): {num_no_inscritas}\")"
      ],
      "metadata": {
        "colab": {
          "base_uri": "https://localhost:8080/"
        },
        "id": "kYnfZVaeJiYv",
        "outputId": "1690d3a5-dad7-4860-ba5e-d4662fa6d28c"
      },
      "execution_count": null,
      "outputs": [
        {
          "output_type": "stream",
          "name": "stdout",
          "text": [
            "Total de personas en la base de datos: 21990\n",
            "Número de personas con título universitario (inscritas): 17520\n",
            "Número de personas sin título universitario (no inscritas): 4470\n"
          ]
        }
      ]
    },
    {
      "cell_type": "markdown",
      "source": [
        "6.Intervalo titulo universitario"
      ],
      "metadata": {
        "id": "V7wx9ieZJqqN"
      }
    },
    {
      "cell_type": "code",
      "source": [
        "filtered_data = XDB[(XDB['Salary'] <= 64100) & (XDB['Salary'] > 47100) & (XDB['Age'] > 39.5) & (XDB['Certificates'] > 1.5)]\n",
        "num_college_degree = filtered_data['College'].sum()\n",
        "print(f\"Número de personas con título universitario en el intervalo: {num_college_degree}\")\n",
        "filtered_data = XDB[(XDB['Salary'] <= 64100) & (XDB['Salary'] > 47100) & (XDB['Age'] > 39.5) & (XDB['Certificates'] <= 1.5)]\n",
        "num_no_college_degree = len(filtered_data) - filtered_data['College'].sum()\n",
        "print(f\"Número de personas sin título universitario en el intervalo: {num_no_college_degree}\")"
      ],
      "metadata": {
        "colab": {
          "base_uri": "https://localhost:8080/"
        },
        "id": "BP25FVc3JwEq",
        "outputId": "500aed43-a715-4bf2-b470-9306fb1b01ee"
      },
      "execution_count": null,
      "outputs": [
        {
          "output_type": "stream",
          "name": "stdout",
          "text": [
            "Número de personas con título universitario en el intervalo: 986\n",
            "Número de personas sin título universitario en el intervalo: 356\n"
          ]
        }
      ]
    },
    {
      "cell_type": "markdown",
      "source": [
        "7.pronostico en un archivo de excel"
      ],
      "metadata": {
        "id": "XIOLkFIIJ26U"
      }
    },
    {
      "cell_type": "code",
      "source": [
        "import pandas as pd\n",
        "# Instala la librería openpyxl si no la tienes:\n",
        "# Hacer un DataFrame con los pronósticos\n",
        "# Suponiendo que 'ydp' contiene los pronósticos del modelo\n",
        "#XD contiene los datos de entrada\n",
        "df_pronostico = pd.DataFrame({'Pronostico': ydp}, index=XD.index)\n",
        "\n",
        "# Unir el DataFrame de pronósticos con los datos originales (opcional)\n",
        "df_completo = pd.concat([XD, df_pronostico], axis=1)\n",
        "\n",
        "# Guardar el DataFrame en un archivo de Excel\n",
        "df_completo.to_excel('informe_pronostico.xlsx', sheet_name='Pronosticos', index=False)"
      ],
      "metadata": {
        "id": "1JF1Y2TVKBz5"
      },
      "execution_count": null,
      "outputs": []
    },
    {
      "cell_type": "markdown",
      "source": [
        "8.Analisis del ejercicio"
      ],
      "metadata": {
        "id": "DqqObKSDRIZs"
      }
    },
    {
      "cell_type": "markdown",
      "source": [
        "Se implementó un modelo de Árbol de Decisión utilizando ocho variables de entrada: Business, Age, Years, Female, Feedback, Salary, Certificates y NPS. La variable de salida fue College, que evalúa si una persona posee un título universitario. La base de datos analizada incluyó un total de 21,990 registros, donde 4,470 personas no tenían título universitario y 17,520 sí lo tenían. El modelo alcanzó una exactitud de casi 80%, superando el umbral aceptable del 75%, lo que refleja un desempeño sólido en la clasificación de los datos,en los indicadores de rendimiento el modelo presentó una sensibilidad de casi 100%, demostrando una alta capacidad para identificar correctamente a las personas con título universitario, Sin embargo, la especificidad fue de apenas 3%, lo que indica una baja efectividad al clasificar los casos negativos. La precisión positiva alcanzó un valor cercano al 80%, mientras que la precisión negativa fue de aproximadamente 62%, evidenciando una tendencia del modelo a clasificar mayormente casos positivos. Posteriormente, se utilizó el modelo para predecir la preaprobación universitaria en los 4,470 registros de personas sin títul dónde la mayoría fueron clasificados erróneamente como poseedores de un título universitario. Además, se observó que ningún nodo del árbol es puro, lo que significa que en todos los nodos hoja existe una mezcla de ambas categorías con y sin título universitario, lo que limita la precisión del modelo."
      ],
      "metadata": {
        "id": "7Z4ype-ZRMHg"
      }
    }
  ]
}