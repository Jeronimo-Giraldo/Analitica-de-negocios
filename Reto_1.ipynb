{
  "nbformat": 4,
  "nbformat_minor": 0,
  "metadata": {
    "colab": {
      "provenance": [],
      "authorship_tag": "ABX9TyOxHBzwg9z5yLd469JHo3x1",
      "include_colab_link": true
    },
    "kernelspec": {
      "name": "python3",
      "display_name": "Python 3"
    },
    "language_info": {
      "name": "python"
    }
  },
  "cells": [
    {
      "cell_type": "markdown",
      "metadata": {
        "id": "view-in-github",
        "colab_type": "text"
      },
      "source": [
        "<a href=\"https://colab.research.google.com/github/Jeronimo-Giraldo/Analitica-de-negocios/blob/main/Reto_1.ipynb\" target=\"_parent\"><img src=\"https://colab.research.google.com/assets/colab-badge.svg\" alt=\"Open In Colab\"/></a>"
      ]
    },
    {
      "cell_type": "markdown",
      "source": [
        "**RETO #1-JERÓNIMO GIRALDO MARTÍNEZ**"
      ],
      "metadata": {
        "id": "-K_Fe9u46vhi"
      }
    },
    {
      "cell_type": "markdown",
      "source": [
        "0.Se procede con la carga de las librerías de trabajo."
      ],
      "metadata": {
        "id": "oeC3Fobi7ASq"
      }
    },
    {
      "cell_type": "code",
      "source": [
        "import numpy as np #Funciones numéricas para la transformación y análisis de los datos.\n",
        "import pandas as pd #Conectar el sistema con las bases de datos."
      ],
      "metadata": {
        "id": "KIv2ilfQ7h7L"
      },
      "execution_count": null,
      "outputs": []
    },
    {
      "cell_type": "markdown",
      "source": [
        "1.Se procede con la carga de la base de datos."
      ],
      "metadata": {
        "id": "QaT7aU5Y7km6"
      }
    },
    {
      "cell_type": "code",
      "source": [
        "nxl=\"/content/1. BD2_CarCrash_Int.xlsx\"\n",
        "XDB=pd.read_excel(nxl,sheet_name=1)\n",
        "\n",
        "#Se cargan las variables de interés.\n",
        "XDB=XDB[['Weekday','ViolCat','ClearWeather','Month','CrashType','Highway','Daylight']]\n",
        "\n",
        "##Separamos las variables por Entrada-Salida.\n",
        "XD=XDB[['Weekday','ViolCat','ClearWeather','Month','CrashType','Daylight']] #Aquí están las variables de entrada.\n",
        "yd=XDB[['Highway']] #Aquí está la variable de referencia."
      ],
      "metadata": {
        "id": "fbtpTPwU7rwP"
      },
      "execution_count": null,
      "outputs": []
    },
    {
      "cell_type": "markdown",
      "source": [
        "2.Implementamos el Modelo."
      ],
      "metadata": {
        "id": "w24ThEbk7wxS"
      }
    },
    {
      "cell_type": "code",
      "source": [
        "from sklearn.naive_bayes import GaussianNB\n",
        "\n",
        "mnb=GaussianNB()\n",
        "mnb.fit(XD,yd)\n",
        "\n",
        "#Se obtiene la información:\n",
        "ct=mnb.class_count_\n",
        "print(\"**Cómo están separados los datos:**\\n\",ct)\n",
        "print(\"**El total de los datos es:**\\n\",len(XD))\n",
        "print(\"**Los datos porcentualmente están divididos en:**\\n\",(ct/len(XD))*100)\n",
        "\n",
        "#Se obtiene la información por categoría:\n",
        "u=mnb.theta_\n",
        "print(\"**La media de los accidentes por categoría es:**\\n\",u)\n",
        "std=mnb.var_  #Esto es Varianza\n",
        "std=np.sqrt(std)\n",
        "print(\"**La desviación estandar de los accidentes por categoría es:**\\n\",std)\n",
        "\n",
        "#Se identifican los valores superiores e inferiores de los ingresos.\n",
        "print(\"**El límite superior de los valores es:**\\n\",u+std)\n",
        "print(\"**El límite inferior de los valores es:**\\n\",u-std)\n",
        "\n",
        "#Para evaluar un solo caso:\n",
        "XS=[[5,1,1,3,4,0]]\n",
        "mnb.predict(XS)"
      ],
      "metadata": {
        "colab": {
          "base_uri": "https://localhost:8080/"
        },
        "id": "3Z72Dh4p72Ld",
        "outputId": "63e7a90d-81aa-475c-a5c8-72e73b27aa7d"
      },
      "execution_count": null,
      "outputs": [
        {
          "output_type": "stream",
          "name": "stdout",
          "text": [
            "**Cómo están separados los datos:**\n",
            " [1580.  501.]\n",
            "**El total de los datos es:**\n",
            " 2081\n",
            "**Los datos porcentualmente están divididos en:**\n",
            " [75.92503604 24.07496396]\n",
            "**La media de los accidentes por categoría es:**\n",
            " [[3.88417722 7.45696203 0.86265823 4.35189873 4.21772152 0.66265823]\n",
            " [3.9261477  4.1497006  0.79840319 6.69461078 3.27744511 0.62075848]]\n",
            "**La desviación estandar de los accidentes por categoría es:**\n",
            " [[1.95062542 3.52136997 0.34420782 2.3433645  1.87371962 0.47280262]\n",
            " [2.01603723 2.16198902 0.40119266 3.44163641 1.05765448 0.48519831]]\n",
            "**El límite superior de los valores es:**\n",
            " [[ 5.83480263 10.978332    1.20686605  6.69526323  6.09144114  1.13546084]\n",
            " [ 5.94218494  6.31168962  1.19959585 10.13624719  4.33509959  1.10595679]]\n",
            "**El límite inferior de los valores es:**\n",
            " [[1.9335518  3.93559205 0.51845041 2.00853424 2.3440019  0.18985561]\n",
            " [1.91011047 1.98771158 0.39721054 3.25297437 2.21979063 0.13556017]]\n"
          ]
        },
        {
          "output_type": "stream",
          "name": "stderr",
          "text": [
            "/usr/local/lib/python3.11/dist-packages/sklearn/utils/validation.py:1408: DataConversionWarning: A column-vector y was passed when a 1d array was expected. Please change the shape of y to (n_samples, ), for example using ravel().\n",
            "  y = column_or_1d(y, warn=True)\n",
            "/usr/local/lib/python3.11/dist-packages/sklearn/utils/validation.py:2739: UserWarning: X does not have valid feature names, but GaussianNB was fitted with feature names\n",
            "  warnings.warn(\n"
          ]
        },
        {
          "output_type": "execute_result",
          "data": {
            "text/plain": [
              "array([0])"
            ]
          },
          "metadata": {},
          "execution_count": 5
        }
      ]
    },
    {
      "cell_type": "markdown",
      "source": [
        "**Matriz de Confusión**\n",
        "\n",
        "Se procede con la evaluación o desempeño del modelo."
      ],
      "metadata": {
        "id": "PMgCXewH8Ank"
      }
    },
    {
      "cell_type": "code",
      "source": [
        "ydp=mnb.predict(XD)  #Hazme el pronóstico de los positivos y negativos.\n",
        "from sklearn.metrics import confusion_matrix\n",
        "cm=confusion_matrix(yd,ydp)\n",
        "print(cm)\n",
        "\n",
        "VN=cm[0,0];FP=cm[0,1];FN=cm[1,0];VP=cm[1,1]\n",
        "\n",
        "Ex=((VN+VP)/(VN+VP+FN+FP))*100\n",
        "print(\"La exactitud del modelo es del:\",Ex)\n",
        "\n",
        "TE=((FN+FP)/(VN+VP+FN+FP))*100\n",
        "print(\"La tasa de error del modelo es del;\",TE)\n",
        "\n",
        "Sen=(VP/(VP+FN))*100\n",
        "print(\"La sensibilidad del modelo es del:\",Sen)\n",
        "\n",
        "Esp=(VN/(VN+FP))*100\n",
        "print(\"La especificidad del modelo es del:\",Esp)\n",
        "\n",
        "Pre=(VP/(VP+FP))*100\n",
        "print(\"La precisión del modelo es del:\",Pre)\n",
        "\n",
        "Pren=(VN/(VN+FN))*100\n",
        "print(\"La precisión negativa del modelo es del:\",Pren)"
      ],
      "metadata": {
        "colab": {
          "base_uri": "https://localhost:8080/"
        },
        "id": "Duu3fjwu8MTJ",
        "outputId": "4a9e470f-935d-423c-fdfc-99636d9ccbab"
      },
      "execution_count": null,
      "outputs": [
        {
          "output_type": "stream",
          "name": "stdout",
          "text": [
            "[[1365  215]\n",
            " [ 224  277]]\n",
            "La exactitud del modelo es del: 78.90437289764536\n",
            "La tasa de error del modelo es del; 21.095627102354637\n",
            "La sensibilidad del modelo es del: 55.28942115768463\n",
            "La especificidad del modelo es del: 86.39240506329115\n",
            "La precisión del modelo es del: 56.30081300813008\n",
            "La precisión negativa del modelo es del: 85.90308370044053\n"
          ]
        }
      ]
    },
    {
      "cell_type": "markdown",
      "source": [
        "**Análisis de Resultados**\n",
        "La base de datos analizada consta de 2.081 registros, donde el 76% corresponde a \"0\" y el 24% a \"1\", reflejando una distribución desbalanceada de clases.\n",
        "\n",
        "Las variaciones en las principales categorías se presentan en los siguientes intervalos:\n",
        "\n",
        "Día de la semana: 5.83, 5.94 y 1.93, 1.91.\n",
        "ViolCat:10.97, 6.31 y 3.93, 1.98.\n",
        "CrashType:6.09, 4.33 y 2.34, 2.21.\n",
        "El modelo alcanzó una exactitud del 80%, con un 20% de error. Se destacan su especificidad 86% y precisión negativa 86%, lo que indica una alta capacidad para predecir correctamente la ausencia de accidentes en autopistas.\n",
        "\n",
        "En una prueba con la combinación 5,1,1,3,4,0, el modelo predijo correctamente que no ocurriría un accidente. Los indicadores adicionales de desempeño están detallados en secciones previas."
      ],
      "metadata": {
        "id": "7RoadghL-7oo"
      }
    },
    {
      "cell_type": "code",
      "source": [],
      "metadata": {
        "id": "7qyQAFEB_S6r"
      },
      "execution_count": null,
      "outputs": []
    }
  ]
}